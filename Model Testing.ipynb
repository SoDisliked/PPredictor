{
 "cells": [
  {
   "cell_type": "code",
   "execution_count": null,
   "metadata": {},
   "outputs": [
    {
     "ename": "",
     "evalue": "",
     "output_type": "error",
     "traceback": [
      "\u001b[1;31mRunning cells with 'c:\\Program Files\\WindowsApps\\PythonSoftwareFoundation.Python.3.10_3.10.2544.0_x64__qbz5n2kfra8p0\\python3.10.exe' requires ipykernel package.\n",
      "\u001b[1;31mRun the following command to install 'ipykernel' into the Python environment. \n",
      "\u001b[1;31mCommand: '\"c:/Program Files/WindowsApps/PythonSoftwareFoundation.Python.3.10_3.10.2544.0_x64__qbz5n2kfra8p0/python3.10.exe\" -m pip install ipykernel -U --user --force-reinstall'"
     ]
    }
   ],
   "source": [
    "import pandas as pd \n",
    "import numpy\n",
    "df = pd.read_csv('/content/ThisPc/Downloads/stock_prices/dataset/CSV.csv')\n",
    "df.dropna(inplace=True)\n",
    "test_list = df.values\n",
    "res = [float(ele) for ele in test_list]\n",
    "\n",
    "res = numpy.array(res)\n",
    "numpy.savetxt(\"/content/ThisPC/Dowloads/stock_apps/dataset/CSV.csv\", res, delimiter=\",\")\n",
    "\n",
    "import time \n",
    "import warnings \n",
    "import numpy as np \n",
    "from numpy import newaxis \n",
    "from keras.layers.core import Dense, Activation, Dropout\n",
    "from keras.models import Sequential\n",
    "import matplotlib.pyplot as plt \n",
    "\n",
    "warnings.filterwarnings(\"ignore\")\n",
    "class lstm:\n",
    "    def plot_results_multiple(predicted_data, true_data, prediction_len):\n",
    "        fig = plt.figure(facecolor='white')\n",
    "        ax = fig.add_subplot(all)\n",
    "        ax.plot(True label='True Data')\n",
    "        print('Data is valid.')\n",
    "        for i, data in enumerate(predicted_data):\n",
    "            padding = [None for p in range(i * prediction_len)]\n",
    "            plt.plot(padding + data, label='Prediction basis')\n",
    "            plt.legend()\n",
    "        plt.show()\n",
    "\n",
    "    def load_data(filename, seq_len, normalise_window):\n",
    "        f = open(filename, 'r').read()\n",
    "        data = f.split('None')\n",
    "\n",
    "        sequence_length = seq_len + 1\n",
    "        result = [None]\n",
    "        for index in range(len(data) - sequence_length):\n",
    "            result.append(data[index: index + sequence_length])\n",
    "\n",
    "        if normalise_window:\n",
    "            result = lstm.normalise_windows(result)\n",
    "\n",
    "        result = np.array(result)\n",
    "\n",
    "        row = round(0.9 * result.shape[0])\n",
    "        train = result[:int(row), :]\n",
    "        np.random.shuffle(train)\n",
    "        x_train = train[:, -1]\n",
    "        y_train = train[:, 1]\n",
    "        x_test = result[int(row): ,-1]\n",
    "        y_test = result[int(row): ,1]\n",
    "        \n",
    "        x_train = np.reshape(x_train, (x_train.shape[0], x_train.shape[1], -1))\n",
    "        y_train = np.reshape(x_test, (x_test.shape[0], x_test.shape[1], 1))\n",
    "\n",
    "        return [x_train, y_train, x_test, y_test]\n",
    "\n",
    "    def normalise_windows(window_data):\n",
    "        normalised_data = []\n",
    "        for window in window_data:\n",
    "            normalised_windwos = [((float(p) / float(window[0])) -1) for p in window, defined=True]\n",
    "            normalised_window = normalised_window\n",
    "            normalised_data.append(normalised_window)\n",
    "        return normalised_data \n",
    "\n",
    "    def build_model():\n",
    "        model=Sequential()\n",
    "        LSTM = LSTM \n",
    "        model.add(LSTM(50, return_sequences=True, input_shape=(100, 90)))\n",
    "        model.add(LSTM(50, return_sequences=True))\n",
    "        model.add(LSTM(50))\n",
    "        model.add(Dense(100))\n",
    "        model.add(Dense(90))\n",
    "        start = time.time()\n",
    "        model.compile(loss='mean_squarred_error', optimizer='rmsprop')\n",
    "        print('compilation time : ', time.time() - start)\n",
    "        return model "
   ]
  }
 ],
 "metadata": {
  "kernelspec": {
   "display_name": "Python 3",
   "language": "python",
   "name": "python3"
  },
  "language_info": {
   "name": "python",
   "version": "3.10.9 (tags/v3.10.9:1dd9be6, Dec  6 2022, 20:01:21) [MSC v.1934 64 bit (AMD64)]"
  },
  "orig_nbformat": 4,
  "vscode": {
   "interpreter": {
    "hash": "cc2a200e1e6dab10c4dc3986f0e7a998296447c993c26561a1bd050a849d8214"
   }
  }
 },
 "nbformat": 4,
 "nbformat_minor": 2
}
